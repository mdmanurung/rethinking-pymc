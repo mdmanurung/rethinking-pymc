{
  "cells": [
    {
      "cell_type": "markdown",
      "metadata": {
        "id": "PlAh31tqhkPZ"
      },
      "source": [
        "# Chapter 2"
      ]
    },
    {
      "cell_type": "markdown",
      "metadata": {
        "id": "vOu_6b_ChkPb"
      },
      "source": []
    },
    {
      "cell_type": "code",
      "source": [
        "import arviz as az\n",
        "import numpy as np\n",
        "import pymc as pm\n",
        "\n",
        "from matplotlib import pylab as plt\n",
        "from scipy import stats\n",
        "\n",
        "RANDOM_SEED = 42\n",
        "np.random.seed(RANDOM_SEED)"
      ],
      "metadata": {
        "id": "ivUskXpuhy6m"
      },
      "execution_count": 2,
      "outputs": []
    },
    {
      "cell_type": "markdown",
      "source": [
        "## Easy"
      ],
      "metadata": {
        "id": "Fv8wghzWrX6i"
      }
    },
    {
      "cell_type": "markdown",
      "source": [
        "### **2E1** \n",
        "\n",
        "Which of the expressions below correspond to the statement: *the probability of rain on Monday?*\n",
        "\n",
        "1. Pr(rain)\n",
        "1. Pr(rain|Monday)\n",
        "1. Pr(Monday|rain)\n",
        "1. Pr(rain, Monday) / Pr(Monday)  \n",
        "\n",
        "**Answer**:\n",
        "\n",
        "* Option 2, Pr(rain|Monday): reads as \"the probability of rain, given that the day is Monday\".\n",
        "* Option 4, this is Bayes theorem in action! If you solve it then you will get Pr(rain|Monday) as well.\n"
      ],
      "metadata": {
        "id": "HJ1IcB0vrfry"
      }
    },
    {
      "cell_type": "markdown",
      "source": [
        "### 2E2\n",
        "\n",
        "Which of the follwoing statements correspond to the expression:$Pr(Monday|rain)$?\n",
        "\n",
        "1. The probability of rain on Monday\n",
        "1. The probability of rain, given that it is Monday\n",
        "1. The probability that it is Monday, given that it is raining\n",
        "1. The probability that it is Monday and that it is raining\n",
        "\n",
        "**Answer**:\n",
        "\n",
        "* Option 3, The probability that it is Monday, given that it is raining\n",
        "* Option 1 and 2: Pr(rain|Monday)\n",
        "* Option 4: Pr(rain, Monday)\n",
        "\n"
      ],
      "metadata": {
        "id": "_51vE8VarnEU"
      }
    },
    {
      "cell_type": "markdown",
      "source": [
        "### 2E3\n",
        "\n",
        "Which of the expressions below correspond to the statement: the probability that it is Monday, given that it is raining?\n",
        "\n",
        "1. Pr(Monday|rain)\n",
        "1. Pr(rain|Monday)\n",
        "1. Pr(rain|Monday) Pr(Monday)\n",
        "1. Pr(rain|Monday) Pr(Monday)/ Pr(rain)\n",
        "1. Pr(Monday|rain) Pr(rain)/ Pr(Monday)\n",
        "\n",
        "**Answer**:"
      ],
      "metadata": {
        "id": "BpGNlq16wxTV"
      }
    },
    {
      "cell_type": "markdown",
      "source": [
        "* Option 1\n",
        "* Option 4"
      ],
      "metadata": {
        "id": "04qyyEWTw8RW"
      }
    },
    {
      "cell_type": "markdown",
      "source": [
        "### 2E4\n",
        "\n",
        "The Bayesian statistician Bruno de Finetti (1906–1985) began his 1973 book on probability theory with the declaration: “PROBABILITY DOES NOT EXIST.” The capitals appeared in the original, so I imagine de Finetti wanted us to shout this statement. What he meant is that probability is a device for describing uncertainty from the perspective of an observer with limited knowledge; it has no objective reality. Discuss the globe tossing example from the chapter, in light of this statement. What does it mean to say “the probability of water is 0.7”?\n",
        "\n",
        "**Answer**:"
      ],
      "metadata": {
        "id": "9p68wV5ItqX9"
      }
    },
    {
      "cell_type": "markdown",
      "source": [
        "Probability quantifies our belief regarding a particular situation, not an objective claim of truth. So, saying that the probability of water on Earth is 0.7 means that if we randomly point a surface of a globe then we will get, for example, 7 water out of 10 trials. However, the probability may change upon seeing new data/samples."
      ],
      "metadata": {
        "id": "y08AfRc9w9nE"
      }
    },
    {
      "cell_type": "markdown",
      "source": [
        "## Medium"
      ],
      "metadata": {
        "id": "Z8_vWU_HrbPn"
      }
    },
    {
      "cell_type": "markdown",
      "source": [
        "### 2M1\n",
        "\n",
        "Recall the globe tossing model from the chapter. Compute and plot the grid approximate posterior distribution for each of the following sets of observations. In each case, assume a uniform prior for p.\n",
        "\n",
        "1. W, W, W\n",
        "1. W, W, W, L\n",
        "1. L, W, W, L, W, W, W\n",
        "\n",
        "**Answer**:"
      ],
      "metadata": {
        "id": "S3clKAZdtxFj"
      }
    },
    {
      "cell_type": "code",
      "source": [
        "# count the number of waters in each toss\n",
        "water = np.array([3, 3, 5])\n",
        "\n",
        "# total number of trials\n",
        "trials = np.array([3, 4, 7])"
      ],
      "metadata": {
        "id": "j7BgS_6WuMU6"
      },
      "execution_count": null,
      "outputs": []
    },
    {
      "cell_type": "code",
      "source": [
        "fig, axs = plt.subplots(1, 3, figsize=(12,4))\n",
        "\n",
        "for w, t, ax, ix in zip(water, trials, np.ravel(axs), range(3)):\n",
        "    # parameter grid\n",
        "    p_grid = np.linspace(0, 1, 20)\n",
        "\n",
        "    # compute the likelihood for each value of p, assuming 6 success and 3 fails\n",
        "    likelihood = stats.binom.pmf(k=w, n=t, p=p_grid)\n",
        "    \n",
        "    # uniform prior\n",
        "    prior = 1\n",
        "    \n",
        "    # posterior\n",
        "    post = likelihood * prior\n",
        "    \n",
        "    # normalise the posterior\n",
        "    post = post / np.sum(post)\n",
        "    \n",
        "    # plot\n",
        "    ax.plot(p_grid, post)\n",
        "    ax.scatter(p_grid, post)\n",
        "    ax.set_title(f\"{w} Water / {t} Trials\")\n",
        "    ax.set(xlabel=\"P\", ylabel=\"Posterior Probability\")\n",
        "\n",
        "for ax in axs.flat:\n",
        "    ax.label_outer()"
      ],
      "metadata": {
        "colab": {
          "base_uri": "https://localhost:8080/",
          "height": 295
        },
        "id": "GjjO96f2ihFr",
        "outputId": "98b081be-2501-4e8e-97aa-6100658e5955"
      },
      "execution_count": null,
      "outputs": [
        {
          "output_type": "display_data",
          "data": {
            "text/plain": [
              "<Figure size 864x288 with 3 Axes>"
            ],
            "image/png": "[encoded data removed]"
          },
          "metadata": {
            "needs_background": "light"
          }
        }
      ]
    },
    {
      "cell_type": "markdown",
      "source": [
        "### 2M2\n",
        "\n",
        "Now assume a prior for p that is equal to zero when p < 0.5 and is a positive constant when\n",
        "p ≥ 0.5. Again compute and plot the grid approximate posterior distribution for each of the sets of\n",
        "observations in the problem just above.\n",
        "\n",
        "**Answer**:"
      ],
      "metadata": {
        "id": "vBkXTwwPjRz8"
      }
    },
    {
      "cell_type": "code",
      "source": [
        "fig, axs = plt.subplots(1, 3, figsize=(12,4))\n",
        "\n",
        "for w, t, ax, ix in zip(water, trials, np.ravel(axs), range(3)):\n",
        "    p_grid = np.linspace(0, 1, 20)\n",
        "\n",
        "    # compute the likelihood for each value of p, assuming 6 success and 3 fails\n",
        "    likelihood = stats.binom.pmf(k=w, n=t, p=p_grid)\n",
        "\n",
        "    # step function prior\n",
        "    prior = (p_grid >= 0.5).astype(int)\n",
        "\n",
        "    # posterior\n",
        "    post = likelihood * prior\n",
        "    \n",
        "    # normalise the posterior\n",
        "    post = post / np.sum(post)\n",
        "    \n",
        "    # plot\n",
        "    ax.plot(p_grid, post)\n",
        "    ax.scatter(p_grid, post)\n",
        "    ax.set_title(f\"{w} Water / {t} Trials\")\n",
        "    ax.set(xlabel=\"P\", ylabel=\"Posterior Probability\")\n",
        "\n",
        "for ax in axs.flat:\n",
        "    ax.label_outer()"
      ],
      "metadata": {
        "id": "UCBmRCc1jk7L",
        "colab": {
          "base_uri": "https://localhost:8080/",
          "height": 295
        },
        "outputId": "a23fd4c4-a85f-4922-bba1-fc8fb4de8586"
      },
      "execution_count": null,
      "outputs": [
        {
          "output_type": "display_data",
          "data": {
            "text/plain": [
              "<Figure size 864x288 with 3 Axes>"
            ],
            "image/png": "[encoded data removed]"
          },
          "metadata": {
            "needs_background": "light"
          }
        }
      ]
    },
    {
      "cell_type": "markdown",
      "source": [
        "### 2M3\n",
        "\n",
        "Suppose there are two globes, one for Earth and one for Mars. The Earth globe is 70% covered\n",
        "in water. The Mars globe is 100% land. Further suppose that one of these globes—you don’t know\n",
        "which—was tossed in the air and produced a “land” observation. Assume that each globe was equally\n",
        "likely to be tossed. Show that the posterior probability that the globe was the Earth, conditional on\n",
        "seeing “land” (Pr(Earth|land)), is 0.23.\n",
        "\n",
        "**Answer**:"
      ],
      "metadata": {
        "id": "ZT8SO4fxxyIa"
      }
    },
    {
      "cell_type": "markdown",
      "source": [
        "* $P(land|Earth) = 1 - 0.7 = 0.3$\n",
        "* $P(land|Mars) = 1$\n",
        "* $P(Earth) = P(Mars) = 0.5$\n",
        "\n",
        "As we want to know $P(Earth|land)$, then:\n",
        "\n",
        "$$\n",
        "P(Earth|land) = \\frac{P(land|Earth)~P(Earth)}{P(land)}\n",
        "$$\n",
        "\n",
        "We need to get $P(land)$ first, which we can calculate in the following way:\n",
        "\n",
        "$$\n",
        "\\begin{aligned}\n",
        "P(land) &= P(land|Earth)~P(Earth)+P(land|Mars)~P(Mars)\\\\\n",
        "        &= 0.3 * 0.5 + 1 * 0.5\\\\\n",
        "        &= 0.65 \n",
        "\\end{aligned}\n",
        "$$\n",
        "\n",
        "We plug the number to the Bayes Theorem equation:\n",
        "\n",
        "$$P(Earth|land) = \\frac{0.3*0.5}{0.65} = 0.23$$"
      ],
      "metadata": {
        "id": "xh-awjc6yEhM"
      }
    },
    {
      "cell_type": "markdown",
      "source": [
        "### 2M4\n",
        "\n",
        "Suppose you have a deck with only three cards. Each card has two sides, and each side is either\n",
        "black or white. One card has two black sides. The second card has one black and one white side. The\n",
        "third card has two white sides. Now suppose all three cards are placed in a bag and shuffled. Someone\n",
        "reaches into the bag and pulls out a card and places it flat on a table. A black side is shown facing up,\n",
        "but you don’t know the color of the side facing down. Show that the probability that the other side is\n",
        "also black is 2/3. Use the counting method (Section 2 of the chapter) to approach this problem. This\n",
        "means counting up the ways that each card could produce the observed data (a black side facing up\n",
        "on the table).\n",
        "\n",
        "**Answer**:"
      ],
      "metadata": {
        "id": "n3o2pJHAxyel"
      }
    },
    {
      "cell_type": "code",
      "source": [],
      "metadata": {
        "id": "jZIAgyZiyD2Z"
      },
      "execution_count": null,
      "outputs": []
    },
    {
      "cell_type": "markdown",
      "source": [
        "### 2M5\n",
        "\n",
        "Now suppose there are four cards: B/B, B/W, W/W, and another B/B. Again suppose a card is\n",
        "drawn from the bag and a black side appears face up. Again calculate the probability that the other\n",
        "side is black.\n",
        "\n",
        "**Answer**:"
      ],
      "metadata": {
        "id": "rbpL6mIwxzOx"
      }
    },
    {
      "cell_type": "code",
      "source": [],
      "metadata": {
        "id": "xjYX6qs7yDbm"
      },
      "execution_count": null,
      "outputs": []
    },
    {
      "cell_type": "markdown",
      "source": [
        "### 2M6 \n",
        "\n",
        "Imagine that black ink is heavy, and so cards with black sides are heavier than cards with white\n",
        "sides. As a result, it’s less likely that a card with black sides is pulled from the bag. So again assume\n",
        "there are three cards: B/B, B/W, and W/W. After experimenting a number of times, you conclude that\n",
        "for every way to pull the B/B card from the bag, there are 2 ways to pull the B/W card and 3 ways to\n",
        "pull the W/W card. Again suppose that a card is pulled and a black side appears face up. Show that\n",
        "the probability the other side is black is now 0.5. Use the counting method, as before.\n",
        "\n",
        "**Answer**:"
      ],
      "metadata": {
        "id": "04n3urrAxzah"
      }
    },
    {
      "cell_type": "code",
      "source": [],
      "metadata": {
        "id": "pAbco_yZyDBC"
      },
      "execution_count": null,
      "outputs": []
    },
    {
      "cell_type": "markdown",
      "source": [
        "### 2M7 \n",
        "\n",
        "Assume again the original card problem, with a single card showing a black side face up. Before\n",
        "looking at the other side, we draw another card from the bag and lay it face up on the table. The face\n",
        "that is shown on the new card is white. Show that the probability that the first card, the one showing\n",
        "a black side, has black on its other side is now 0.75. Use the counting method, if you can. Hint: Treat\n",
        "this like the sequence of globe tosses, counting all the ways to see each observation, for each possible\n",
        "first card.\n",
        "\n",
        "**Answer**:"
      ],
      "metadata": {
        "id": "Sjx0djMNxzlB"
      }
    },
    {
      "cell_type": "code",
      "source": [],
      "metadata": {
        "id": "SPnadyuDxzuv"
      },
      "execution_count": null,
      "outputs": []
    },
    {
      "cell_type": "markdown",
      "source": [
        "## Hard"
      ],
      "metadata": {
        "id": "iEkid26nqNZW"
      }
    },
    {
      "cell_type": "markdown",
      "source": [
        "### 2H1\n",
        "\n",
        "Suppose there are two species of panda bear. Both are equally common in the wild and live in the same places. They look exactly alike and eat the same food, and there is yet no genetic assay capable of telling them apart. They differ however in their family sizes. Species A gives birth to twins 10% of the time, otherwise birthing a single infant. Species B births twins 20% of the time, otherwise birthing singleton infants. Assume these numbers are known with certainty, from many years of field research. \n",
        "\n",
        "Now suppose you are managing a captive panda breeding program. You have a new female panda of unknown species, and she has just given birth to twins. What is the probability that her next birth will also be twins?\n",
        "\n",
        "**Answer:**"
      ],
      "metadata": {
        "id": "cKqmU5Jsreh7"
      }
    },
    {
      "cell_type": "markdown",
      "source": [
        ":::{.panel-tabset}"
      ],
      "metadata": {
        "id": "9vllffc_GEnp"
      }
    },
    {
      "cell_type": "markdown",
      "source": [
        "#### Analytic\n",
        "\n",
        "What we know from the question:\n",
        "\n",
        "* $P(A) = P(B) = 0.5$\n",
        "* $P(twin|A) = 0.1$\n",
        "* $P(twin|B) = 0.2$\n",
        "\n",
        "What we can calculate:\n",
        "\n",
        "* $P(twin) = P(twin|A) * P(A) + P(twin|B) * P(B) = 0.1 * 0.5 + 0.2 * 0.5 = 0.15$\n",
        "* $P(A|twin) = P(twin|A) P(A) / P(twin) = 0.1 * 0.5 / 0.15 = 1/3$\n",
        "* $P(B|twin) = 1 - P(A|twin) = 2/3$\n",
        "\n",
        "What we need to know $P(twin_2|twin_1)$:\n",
        "\n",
        "We can calculate probability of producing twin in each species, weighted by the posterior probability of being from either species A or B.\n",
        "\n",
        "$P(twin_2|twin_1)$ = 1/10 * 1/3 + 2/10 * 2/3 = 1/30 + 4/30 = 1/6"
      ],
      "metadata": {
        "id": "CO3qHEUf4qR8"
      }
    },
    {
      "cell_type": "markdown",
      "source": [
        "#### Code"
      ],
      "metadata": {
        "id": "7d9G640nGJN5"
      }
    },
    {
      "cell_type": "code",
      "source": [
        "p_twin_A = 0.1\n",
        "p_twin_B = 0.2\n",
        "\n",
        "# first update: twin birth\n",
        "likelihood_twins = np.array([p_twin_A, p_twin_B])\n",
        "prior = np.array([1, 1])\n",
        "post = prior * likelihood_twins\n",
        "post = post / post.sum()\n",
        "\n",
        "# another twin\n",
        "post[0] * p_twin_A + post[1] * p_twin_B"
      ],
      "metadata": {
        "colab": {
          "base_uri": "https://localhost:8080/"
        },
        "id": "2UZmmhFtAtus",
        "outputId": "81f887ec-fe14-433e-ec2b-511b1d53eb4f"
      },
      "execution_count": 18,
      "outputs": [
        {
          "output_type": "execute_result",
          "data": {
            "text/plain": [
              "0.16666666666666666"
            ]
          },
          "metadata": {},
          "execution_count": 18
        }
      ]
    },
    {
      "cell_type": "markdown",
      "source": [
        ":::"
      ],
      "metadata": {
        "id": "NGrN097hGKlJ"
      }
    },
    {
      "cell_type": "markdown",
      "source": [
        "### 2H2\n",
        "\n",
        "Recall all the facts from the problem above. Now compute the probability that the panda we have is from species A, assuming we have observed only the first birth and that it was twins.\n",
        "\n",
        "**Answer**:"
      ],
      "metadata": {
        "id": "SUbfPNa5xJrA"
      }
    },
    {
      "cell_type": "markdown",
      "source": [
        "This question is asking $P(A|twin)$, which we have already answered: **1/3**"
      ],
      "metadata": {
        "id": "VQYwdyWBxi6o"
      }
    },
    {
      "cell_type": "markdown",
      "source": [
        "### 2H3\n",
        "\n",
        "Continuing on from the previous problem, suppose the same panda mother has a second birth and that it is not twins, but a singleton infant. Compute the posterior probability that this panda is species A\n",
        "\n",
        "**Answer**:"
      ],
      "metadata": {
        "id": "LUwlGClBxNNb"
      }
    },
    {
      "cell_type": "code",
      "source": [
        "p_twin_A = 0.1\n",
        "p_twin_B = 0.2\n",
        "\n",
        "# first update: twin birth\n",
        "likelihood_twins = np.array([p_twin_A, p_twin_B])\n",
        "prior = np.array([1, 1])\n",
        "post = prior * likelihood_twins\n",
        "post = post / post.sum()\n",
        "\n",
        "# second update: singleton\n",
        "likelihood_single = np.array([1 - p_twin_A, 1 - p_twin_B])\n",
        "prior = post \n",
        "post = prior * likelihood_single\n",
        "post = post / post.sum()\n",
        "post[0]"
      ],
      "metadata": {
        "id": "9Nhm9cZBxlYH",
        "colab": {
          "base_uri": "https://localhost:8080/"
        },
        "outputId": "f3e9c2e0-62d0-4c7e-dfa2-416293966b5a"
      },
      "execution_count": 12,
      "outputs": [
        {
          "output_type": "execute_result",
          "data": {
            "text/plain": [
              "0.36000000000000004"
            ]
          },
          "metadata": {},
          "execution_count": 12
        }
      ]
    },
    {
      "cell_type": "markdown",
      "source": [
        "### 2H4\n",
        "\n",
        "A common boast of Bayesian statisticians is that Bayesian inference makes it easy to use all of the data, even if the data are of different types. So suppose now that a veterinarian comes along who has a new genetic test that she claims can identify the species of our mother panda. But the test, like all tests, is imperfect. This is the information you have about the test: • The probability it correctly identifies a species A panda is 0.8. • The probability it correctly identifies a species B panda is 0.65. The vet administers the test to your panda and tells you that the test is positive for species A. First ignore your previous information from the births and compute the posterior probability that your panda is species A. Then redo your calculation, now using the birth data as well.\n",
        "\n",
        "**Answer**:"
      ],
      "metadata": {
        "id": "nfQH2QTKxNpY"
      }
    },
    {
      "cell_type": "markdown",
      "source": [
        ":::{.panel-tabset}"
      ],
      "metadata": {
        "id": "__RqpX2FFMdN"
      }
    },
    {
      "cell_type": "markdown",
      "source": [
        "#### Analytic\n",
        "\n",
        "What we know:\n",
        "\n",
        "* P(+A|A) = 0.8\n",
        "* P(+A|B) = 1 - 0.65 = 0.35\n",
        "\n",
        "P(+A) = P(+A|A) P(A) + P(+A|B) P(B) = 0.8 * 0.5 + 0.35 * 0.5 = 0.4 + 0.175 = 0.575\n",
        "\n",
        "Then we need to know P(A|+A) = P(+A|A) P(A) / P(+) = 0.8 * 0.5 / 0.575 = 0.696\n",
        "\n",
        "From the birth data, we know:\n",
        "* P(A) = 0.36\n",
        "* P(B) = 1 - P(A) = 0.64\n",
        "\n",
        "P(+A) = 0.8 * 0.36 + 0.35 * 0.64 = 0.512\n",
        "\n",
        "P(A|+) = 0.8 * 0.36 / 0.512 = 0.5625"
      ],
      "metadata": {
        "id": "ffOsRmOKxNs3"
      }
    },
    {
      "cell_type": "markdown",
      "source": [
        "#### Code"
      ],
      "metadata": {
        "id": "QvnPrzvLFuBs"
      }
    },
    {
      "cell_type": "code",
      "source": [
        "likelihood_test = np.array([0.8, 0.35])\n",
        "prior = np.array([1, 1])\n",
        "post = prior * likelihood_test\n",
        "post = post / post.sum()\n",
        "post[0]"
      ],
      "metadata": {
        "colab": {
          "base_uri": "https://localhost:8080/"
        },
        "id": "LVhSE8_LEvhV",
        "outputId": "cc455c28-6f03-4f79-d178-af5723d31daf"
      },
      "execution_count": 22,
      "outputs": [
        {
          "output_type": "execute_result",
          "data": {
            "text/plain": [
              "0.6956521739130436"
            ]
          },
          "metadata": {},
          "execution_count": 22
        }
      ]
    },
    {
      "cell_type": "code",
      "source": [
        "p_twin_A = 0.1\n",
        "p_twin_B = 0.2\n",
        "\n",
        "likelihood_twin_single = np.array([p_twin_A * (1 - p_twin_A), p_twin_B * (1 - p_twin_B)])\n",
        "prior = post\n",
        "post = prior * likelihood_twin_single\n",
        "post = post / post.sum()\n",
        "post[0]"
      ],
      "metadata": {
        "colab": {
          "base_uri": "https://localhost:8080/"
        },
        "id": "FEcgNSetEQ9U",
        "outputId": "993531da-e7f5-4f11-ed36-5d74496612d0"
      },
      "execution_count": 23,
      "outputs": [
        {
          "output_type": "execute_result",
          "data": {
            "text/plain": [
              "0.5625"
            ]
          },
          "metadata": {},
          "execution_count": 23
        }
      ]
    },
    {
      "cell_type": "markdown",
      "source": [
        ":::"
      ],
      "metadata": {
        "id": "EAGPbW0aFVZQ"
      }
    }
  ],
  "metadata": {
    "language_info": {
      "name": "python"
    },
    "orig_nbformat": 4,
    "colab": {
      "provenance": [],
      "toc_visible": true
    },
    "kernelspec": {
      "name": "python3",
      "display_name": "Python 3"
    }
  },
  "nbformat": 4,
  "nbformat_minor": 0
}